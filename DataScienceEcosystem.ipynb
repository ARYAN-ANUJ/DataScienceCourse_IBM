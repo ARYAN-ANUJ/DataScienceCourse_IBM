{
  "nbformat": 4,
  "nbformat_minor": 0,
  "metadata": {
    "colab": {
      "provenance": []
    },
    "kernelspec": {
      "name": "python3",
      "display_name": "Python 3"
    },
    "language_info": {
      "name": "python"
    }
  },
  "cells": [
    {
      "cell_type": "markdown",
      "source": [
        "# Data Science Tools and Ecosystem\n"
      ],
      "metadata": {
        "id": "eSkFyCVBpM0s"
      }
    },
    {
      "cell_type": "markdown",
      "source": [
        "In this notebook, Data Science Tools and Ecosystem are summarized.\n"
      ],
      "metadata": {
        "id": "rXT4qlfTph_w"
      }
    },
    {
      "cell_type": "markdown",
      "source": [
        "Some of the popular languages that Data Scientists use are:\n",
        "\n",
        "1. Python\n",
        "2. R\n",
        "3. SQL\n"
      ],
      "metadata": {
        "id": "_FvDE_brpkA_"
      }
    },
    {
      "cell_type": "markdown",
      "source": [
        "Some of the commonly used libraries used by Data Scientists include:\n",
        "\n",
        "1. Pandas\n",
        "2. NumPy\n",
        "3. Matplotlib\n"
      ],
      "metadata": {
        "id": "TFr1BKy5psMH"
      }
    },
    {
      "cell_type": "markdown",
      "source": [
        "| Data Science Tools |\n",
        "|--------------------|\n",
        "| Jupyter Notebook   |\n",
        "| RStudio            |\n",
        "| Spyder             |\n"
      ],
      "metadata": {
        "id": "ZBbVWS-mpu7q"
      }
    },
    {
      "cell_type": "markdown",
      "source": [
        "### Below are a few examples of evaluating arithmetic expressions in Python.\n"
      ],
      "metadata": {
        "id": "kwe2wgjVpyPC"
      }
    },
    {
      "cell_type": "code",
      "source": [
        "# This is a simple arithmetic expression to multiply then add integers.\n",
        "ans = (3*4)+5\n",
        "print(ans)"
      ],
      "metadata": {
        "colab": {
          "base_uri": "https://localhost:8080/"
        },
        "id": "T8gb-Q2oqTm6",
        "outputId": "23905268-54f2-46f8-8d3b-30ec01383310"
      },
      "execution_count": 5,
      "outputs": [
        {
          "output_type": "stream",
          "name": "stdout",
          "text": [
            "17\n"
          ]
        }
      ]
    },
    {
      "cell_type": "code",
      "source": [
        "# This will convert 200 minutes to hours by dividing by 60.\n",
        "mins = 200\n",
        "hours = mins / 60\n",
        "print(\"%.2f \" %hours)"
      ],
      "metadata": {
        "colab": {
          "base_uri": "https://localhost:8080/"
        },
        "id": "zMsJkdpkqb-A",
        "outputId": "e106ff73-c480-4501-934e-6f1c0b49b70b"
      },
      "execution_count": 7,
      "outputs": [
        {
          "output_type": "stream",
          "name": "stdout",
          "text": [
            "3.33 \n"
          ]
        }
      ]
    },
    {
      "cell_type": "markdown",
      "source": [
        "**Objectives:**\n",
        "- List popular languages for Data Science\n",
        "- Identify commonly used libraries in Data Science\n",
        "- Introduce key Data Science tools\n"
      ],
      "metadata": {
        "id": "gjdRwsx_p0is"
      }
    },
    {
      "cell_type": "markdown",
      "source": [
        "## Author\n",
        "Aryan Anuj"
      ],
      "metadata": {
        "id": "t2FUWsOhp3s6"
      }
    },
    {
      "cell_type": "code",
      "source": [],
      "metadata": {
        "id": "1XIA_CP0pHhF"
      },
      "execution_count": null,
      "outputs": []
    }
  ]
}